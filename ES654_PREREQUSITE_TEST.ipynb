{
  "nbformat": 4,
  "nbformat_minor": 0,
  "metadata": {
    "colab": {
      "provenance": []
    },
    "kernelspec": {
      "name": "python3",
      "display_name": "Python 3"
    },
    "language_info": {
      "name": "python"
    }
  },
  "cells": [
    {
      "cell_type": "markdown",
      "source": [
        "## Q1) \n",
        "Number of multiplications needed=n * m * k\n",
        "Number of additions required=n * m * (k-1)\n",
        "\n",
        "Explanation:\n",
        "Multiplications: There are n*m elements in the result matrix after multiplication.For each element, we need to perform k multiplications( multiplication of arrays of sizes 1 * k and k * 1).\n",
        "so in total we need n * m * k multiplications.\n",
        "\n",
        "Additions: There are n*m elements in the result matrix after multiplication.For each element, we need to perform k-1 additions( multiplication of arrays of sizes 1 * k and k * 1 gives single element obtained by adding k elments. i.e, k-1 additions).\n",
        "so in total we need n * m * (k-1) additions."
      ],
      "metadata": {
        "id": "ba49HHh9QwIh"
      }
    },
    {
      "cell_type": "markdown",
      "source": [
        "## Q2)"
      ],
      "metadata": {
        "id": "7aAQ6RVAQu8C"
      }
    },
    {
      "cell_type": "code",
      "source": [
        "##Normal marix multiplication\n",
        "\n",
        "%%timeit\n",
        "import random as r\n",
        "\n",
        "#uncomment for dynamic input\n",
        "'''\n",
        "n=int(input())\n",
        "k=int(input())\n",
        "m=int(input())\n",
        "'''\n",
        "#input sizes of array\n",
        "n=10\n",
        "m=6\n",
        "k=5\n",
        "# two some random arrays\n",
        "A = [[54, 90, 59, 8, 14], [82, 8, 97, 98, 59], [49, 26, 85, 99, 99], [28, 90, 53, 68, 95], [83, 76, 85, 40, 60], [74, 64, 68, 37, 48], [99, 2, 60, 24, 38], [17, 89, 58, 99, 79], [8, 94, 31, 28, 22], [29, 90, 62, 64, 96]]\n",
        "  \n",
        "B = [[78, 26, 85, 94, 56, 0], [25, 21, 49, 87, 97, 26], [8, 68, 90, 50, 53, 65], [21, 98, 39, 40, 66, 86], [38, 84, 34, 13, 23, 8]]\n",
        "result = [[0 for i in range (m)]for _ in range(n)]\n",
        "#print(A)\n",
        "#print(B)\n",
        "#print(result)\n",
        "\n",
        "#multiplication\n",
        "for i in range(n):\n",
        " \n",
        "    # iterating by column by A\n",
        "    for j in range(m):\n",
        " \n",
        "        # iterating by rows of B\n",
        "        for r in range(k):\n",
        "            result[i][j] += A[i][r] * B[r][j]\n",
        "\n",
        "#print(result)\n",
        "\n"
      ],
      "metadata": {
        "colab": {
          "base_uri": "https://localhost:8080/"
        },
        "id": "7efg4HI7SLGb",
        "outputId": "c6c48eec-608b-47c3-94d1-feb18c0eac74"
      },
      "execution_count": 1,
      "outputs": [
        {
          "output_type": "stream",
          "name": "stdout",
          "text": [
            "105 µs ± 5.45 µs per loop (mean ± std. dev. of 7 runs, 10000 loops each)\n"
          ]
        }
      ]
    },
    {
      "cell_type": "code",
      "source": [
        "# multiplication using numpy\n",
        "\n",
        "%%timeit\n",
        "import random as r\n",
        "import numpy as np\n",
        " \n",
        "\n",
        "# uncomment for random input\n",
        "#A = ([(r.randint(0,100)) for i in range (k)]for _ in range(n))\n",
        "#B = ([r.randint(0,100) for i in range (m)]for _ in range(k))\n",
        "A= ([54, 90, 59, 8, 14], \n",
        "    [82, 8, 97, 98, 59], \n",
        "    [49, 26, 85, 99, 99], \n",
        "    [28, 90, 53, 68, 95], \n",
        "    [83, 76, 85, 40, 60], \n",
        "    [74, 64, 68, 37, 48], \n",
        "    [99, 2, 60, 24, 38], \n",
        "    [17, 89, 58, 99, 79], \n",
        "    [8, 94, 31, 28, 22],\n",
        "    [29, 90, 62, 64, 96] )\n",
        "B= ([78, 26, 85, 94, 56, 0],\n",
        "    [25, 21, 49, 87, 97, 26], \n",
        "    [8, 68, 90, 50, 53, 65], \n",
        "    [21, 98, 39, 40, 66, 86], \n",
        "    [38, 84, 34, 13, 23, 8])\n",
        "\n",
        "\n",
        "#print(A,B)\n",
        "\n",
        "result= np.dot(A,B)\n",
        "#print(result)"
      ],
      "metadata": {
        "colab": {
          "base_uri": "https://localhost:8080/"
        },
        "id": "ZUaHdmzBS2hC",
        "outputId": "5f498863-5302-4569-8004-fb6123b6851a"
      },
      "execution_count": 2,
      "outputs": [
        {
          "output_type": "stream",
          "name": "stdout",
          "text": [
            "25.7 µs ± 1.92 µs per loop (mean ± std. dev. of 7 runs, 10000 loops each)\n"
          ]
        }
      ]
    },
    {
      "cell_type": "markdown",
      "source": [
        "The code that uses numpy is faster in calculation than the normal multiplication using python lists.\n",
        "REASON:\n",
        "1)Numpy arrays are collection of same datatypes stored in contiguous memory locations whereas lists are collection of different (heterogenous) datatypes stored in non-contiguous memory locations.\n",
        "2)Numpy is a python package which breaks down task into multiple subtasks and process them parallelly."
      ],
      "metadata": {
        "id": "NvIfbSBOTRVU"
      }
    },
    {
      "cell_type": "markdown",
      "source": [
        "## Q3"
      ],
      "metadata": {
        "id": "NvD_EzPVTUL5"
      }
    },
    {
      "cell_type": "code",
      "source": [
        "%%timeit\n",
        "#Method-1   TIme complexity: O(n*n)\n",
        "\n",
        "#uncomment the required arr to test on different sizes.\n",
        "#arr=[23,45,3,12,2,456,56,65,76,5,4,78,98,79,80,100,39,81,27,61]\n",
        "'''\n",
        "arr=[233, 654, 232, 627, 874,  89, 235, 697, 237, 155, 234, 452, 423,\n",
        "       647, 312, 145, 876, 330, 957, 252, 923, 791, 602, 318, 748, 260,\n",
        "       614, 553, 897, 994, 662,  92, 371,  43, 311, 858, 150, 336, 180,\n",
        "       171, 403, 794, 833, 603, 987, 565, 982,  87, 900, 743, 390, 164,\n",
        "       940, 116, 192, 721, 735,  40,  92, 905,   4, 475, 858, 161, 875,\n",
        "       786, 172, 550, 886, 556, 955, 329, 675, 318, 340, 786, 108, 321,\n",
        "       749, 108, 281, 434, 661, 328, 129, 644, 574, 526, 124, 375, 580,\n",
        "       689, 346, 793, 566, 810, 245, 673, 260, 473]\n",
        "'''\n",
        "\n",
        "arr=[546, 437, 182, 979, 264, 414, 992, 101, 773, 918,  79, 423, 928,\n",
        "        65, 809, 966, 642, 662, 591,  52, 163, 894, 615, 837, 271, 632,\n",
        "        51, 699, 743, 934, 470, 690, 840, 371, 601, 604, 365, 684, 482,\n",
        "       947, 180, 761, 678,  46, 352, 120, 299, 625, 194, 324, 684,  72,\n",
        "         2, 151, 636,  87, 712, 348, 357, 102, 672, 455, 266, 223, 409,\n",
        "       196, 554,  26, 957, 565, 874, 331, 868, 230, 775, 645,  65, 237,\n",
        "       113, 348, 238, 845, 416,  38, 534, 192, 270, 880,  88, 544, 140,\n",
        "       549, 931, 857, 638, 572, 242, 252,  86, 584, 710, 448, 684, 484,\n",
        "       398, 850,  12, 698, 249, 510, 147, 226, 402, 178, 948, 967, 717,\n",
        "       326, 912, 480, 534,  41, 531, 123, 586, 291,  74, 635, 195,  23,\n",
        "       865, 201,  89, 845, 811, 871, 508, 188, 878, 870, 837, 856, 970,\n",
        "       588,  75,  86, 525, 974, 965,  80, 816, 621, 311, 215, 504, 681,\n",
        "       560, 602, 973, 673, 428, 534, 175, 816, 226, 145, 740, 242, 807,\n",
        "       300, 118, 142, 911, 691, 126,  79, 805, 561, 316, 705, 754,  40,\n",
        "       399, 512, 299, 477, 874, 645, 706, 139, 239, 185, 684, 470,  56,\n",
        "       811, 266,  76, 857, 523, 628, 461, 812, 107,  85, 843, 669, 727,\n",
        "       234, 473, 353, 849, 600, 802, 605, 335, 980, 794, 951, 494, 705,\n",
        "       800,  63, 676, 233, 617, 565, 684, 613,  93, 694, 393, 607, 418,\n",
        "       521, 777, 602, 309,  91, 788, 953, 536, 172, 717,  27, 256, 932,\n",
        "       840, 470, 432, 918, 740, 349, 376, 733, 673, 893, 196, 725, 746,\n",
        "       254, 421, 487, 881, 337,  54, 172, 975, 129, 582, 867, 914, 425,\n",
        "       320, 418, 954, 891, 875,  69, 772, 808, 100, 274, 814, 862, 101,\n",
        "       971,  96, 968, 570, 975, 512, 834, 936, 841, 663,   3, 899,  69,\n",
        "       295, 697, 594, 379, 342, 206, 450, 677, 715, 537,   8, 440, 573,\n",
        "       962, 338, 362, 685, 784,  28, 726, 831, 619, 224, 775, 962, 484,\n",
        "       642, 455, 474, 206,  98, 742, 497, 672, 834, 317, 465, 687,  39,\n",
        "       789,  74, 907, 963, 937, 786, 514, 220, 135, 233, 632,  10, 309,\n",
        "       421, 300, 819,   7, 330, 721, 106, 638, 791, 758, 729, 280, 102,\n",
        "       981, 694, 673, 748, 316, 168, 151,  70, 879, 927, 759, 792, 397,\n",
        "       116, 772, 211, 222, 872, 268, 410, 702, 647, 990, 742, 265, 870,\n",
        "       495, 637, 364, 190, 962, 105, 578, 678, 210, 340, 679, 185, 129,\n",
        "        16,  29, 412, 176,   8, 116, 729,  37, 243, 992, 335, 160, 779,\n",
        "       554, 201, 348, 589, 904, 288, 437, 788, 884, 939, 903, 234, 420,\n",
        "       994,  85, 129, 461, 380, 219, 619, 674, 108, 361, 400, 849, 101,\n",
        "       141, 422, 872, 583, 330, 186, 866, 225, 392, 576, 622, 288,  20,\n",
        "       527, 563, 624, 556, 943, 423, 954, 222,  97, 906, 120, 877,  68,\n",
        "       243, 222, 823,  56, 122, 929, 166, 303, 716, 300,  48, 440, 365,\n",
        "       437,  97, 695, 178, 902, 686, 544, 719, 969, 890, 753, 215, 780,\n",
        "        11, 255, 394, 556, 222, 612]\n",
        "\n",
        "maxi=-100000000\n",
        "for i in range(len(arr)):\n",
        "    maxi=arr[i]\n",
        "    for j in range(i,len(arr)):\n",
        "        if maxi<arr[j]:\n",
        "            maxi=arr[j]\n",
        "            sel_ind=j\n",
        "    arr[sel_ind],arr[i]=arr[i],arr[sel_ind]\n",
        "#print(arr)\n",
        "l=len(arr)\n",
        "if l%2==0:\n",
        "    print(\"median=\",(arr[l//2]+arr[(l-1)//2])/2)\n",
        "else:\n",
        "    print(\"median=\",arr[l//2])\n",
        "#print(sorted(arr,reverse=True))\n",
        "        "
      ],
      "metadata": {
        "colab": {
          "base_uri": "https://localhost:8080/"
        },
        "id": "TOGnXSR-TSuy",
        "outputId": "5f854d12-eefe-4fec-e4b5-91c91dbc0474"
      },
      "execution_count": 4,
      "outputs": [
        {
          "output_type": "stream",
          "name": "stdout",
          "text": [
            "median= 511.0\n",
            "CPU times: user 18 ms, sys: 957 µs, total: 18.9 ms\n",
            "Wall time: 19 ms\n"
          ]
        }
      ]
    },
    {
      "cell_type": "code",
      "source": [
        "%%timeit\n",
        "#Method-2: Using merge sort  TIme complexity: O(n*log(n))\n",
        "\n",
        "def merge(arr, l, m, r):\n",
        "    n1 = m - l + 1\n",
        "    n2 = r - m\n",
        " \n",
        "    # create temp arrays\n",
        "    L = [0] * (n1)\n",
        "    R = [0] * (n2)\n",
        " \n",
        "    # Copy data to temp arrays L[] and R[]\n",
        "    for i in range(0, n1):\n",
        "        L[i] = arr[l + i]\n",
        " \n",
        "    for j in range(0, n2):\n",
        "        R[j] = arr[m + 1 + j]\n",
        " \n",
        "    # Merge the temp arrays back into arr[l..r]\n",
        "    i = 0     # Initial index of first subarray\n",
        "    j = 0     # Initial index of second subarray\n",
        "    k = l     # Initial index of merged subarray\n",
        " \n",
        "    while i < n1 and j < n2:\n",
        "        if L[i] <= R[j]:\n",
        "            arr[k] = L[i]\n",
        "            i += 1\n",
        "        else:\n",
        "            arr[k] = R[j]\n",
        "            j += 1\n",
        "        k += 1\n",
        " \n",
        "    # Copy the remaining elements of L[], if there\n",
        "    # are any\n",
        "    while i < n1:\n",
        "        arr[k] = L[i]\n",
        "        i += 1\n",
        "        k += 1\n",
        " \n",
        "    # Copy the remaining elements of R[], if there\n",
        "    # are any\n",
        "    while j < n2:\n",
        "        arr[k] = R[j]\n",
        "        j += 1\n",
        "        k += 1\n",
        " \n",
        " \n",
        " \n",
        "def mergeSort(arr, l, r):\n",
        "    if l < r:\n",
        " \n",
        "        # Same as (l+r)//2, but avoids overflow for\n",
        "        # large l and h\n",
        "        m = l+(r-l)//2\n",
        " \n",
        "        # Sort first and second halves\n",
        "        mergeSort(arr, l, m)\n",
        "        mergeSort(arr, m+1, r)\n",
        "        merge(arr, l, m, r)\n",
        " \n",
        "\n",
        "\n",
        "#uncomment the required arr to test on different sizes.\n",
        " \n",
        "#arr=[23,45,3,12,2,456,56,65,76,5,4,78,98,79,80,100,39,81,27,61]\n",
        "'''arr=[233, 654, 232, 627, 874,  89, 235, 697, 237, 155, 234, 452, 423,\n",
        "       647, 312, 145, 876, 330, 957, 252, 923, 791, 602, 318, 748, 260,\n",
        "       614, 553, 897, 994, 662,  92, 371,  43, 311, 858, 150, 336, 180,\n",
        "       171, 403, 794, 833, 603, 987, 565, 982,  87, 900, 743, 390, 164,\n",
        "       940, 116, 192, 721, 735,  40,  92, 905,   4, 475, 858, 161, 875,\n",
        "       786, 172, 550, 886, 556, 955, 329, 675, 318, 340, 786, 108, 321,\n",
        "       749, 108, 281, 434, 661, 328, 129, 644, 574, 526, 124, 375, 580,\n",
        "       689, 346, 793, 566, 810, 245, 673, 260, 473]\n",
        "'''\n",
        "\n",
        "arr=[546, 437, 182, 979, 264, 414, 992, 101, 773, 918,  79, 423, 928,\n",
        "        65, 809, 966, 642, 662, 591,  52, 163, 894, 615, 837, 271, 632,\n",
        "        51, 699, 743, 934, 470, 690, 840, 371, 601, 604, 365, 684, 482,\n",
        "       947, 180, 761, 678,  46, 352, 120, 299, 625, 194, 324, 684,  72,\n",
        "         2, 151, 636,  87, 712, 348, 357, 102, 672, 455, 266, 223, 409,\n",
        "       196, 554,  26, 957, 565, 874, 331, 868, 230, 775, 645,  65, 237,\n",
        "       113, 348, 238, 845, 416,  38, 534, 192, 270, 880,  88, 544, 140,\n",
        "       549, 931, 857, 638, 572, 242, 252,  86, 584, 710, 448, 684, 484,\n",
        "       398, 850,  12, 698, 249, 510, 147, 226, 402, 178, 948, 967, 717,\n",
        "       326, 912, 480, 534,  41, 531, 123, 586, 291,  74, 635, 195,  23,\n",
        "       865, 201,  89, 845, 811, 871, 508, 188, 878, 870, 837, 856, 970,\n",
        "       588,  75,  86, 525, 974, 965,  80, 816, 621, 311, 215, 504, 681,\n",
        "       560, 602, 973, 673, 428, 534, 175, 816, 226, 145, 740, 242, 807,\n",
        "       300, 118, 142, 911, 691, 126,  79, 805, 561, 316, 705, 754,  40,\n",
        "       399, 512, 299, 477, 874, 645, 706, 139, 239, 185, 684, 470,  56,\n",
        "       811, 266,  76, 857, 523, 628, 461, 812, 107,  85, 843, 669, 727,\n",
        "       234, 473, 353, 849, 600, 802, 605, 335, 980, 794, 951, 494, 705,\n",
        "       800,  63, 676, 233, 617, 565, 684, 613,  93, 694, 393, 607, 418,\n",
        "       521, 777, 602, 309,  91, 788, 953, 536, 172, 717,  27, 256, 932,\n",
        "       840, 470, 432, 918, 740, 349, 376, 733, 673, 893, 196, 725, 746,\n",
        "       254, 421, 487, 881, 337,  54, 172, 975, 129, 582, 867, 914, 425,\n",
        "       320, 418, 954, 891, 875,  69, 772, 808, 100, 274, 814, 862, 101,\n",
        "       971,  96, 968, 570, 975, 512, 834, 936, 841, 663,   3, 899,  69,\n",
        "       295, 697, 594, 379, 342, 206, 450, 677, 715, 537,   8, 440, 573,\n",
        "       962, 338, 362, 685, 784,  28, 726, 831, 619, 224, 775, 962, 484,\n",
        "       642, 455, 474, 206,  98, 742, 497, 672, 834, 317, 465, 687,  39,\n",
        "       789,  74, 907, 963, 937, 786, 514, 220, 135, 233, 632,  10, 309,\n",
        "       421, 300, 819,   7, 330, 721, 106, 638, 791, 758, 729, 280, 102,\n",
        "       981, 694, 673, 748, 316, 168, 151,  70, 879, 927, 759, 792, 397,\n",
        "       116, 772, 211, 222, 872, 268, 410, 702, 647, 990, 742, 265, 870,\n",
        "       495, 637, 364, 190, 962, 105, 578, 678, 210, 340, 679, 185, 129,\n",
        "        16,  29, 412, 176,   8, 116, 729,  37, 243, 992, 335, 160, 779,\n",
        "       554, 201, 348, 589, 904, 288, 437, 788, 884, 939, 903, 234, 420,\n",
        "       994,  85, 129, 461, 380, 219, 619, 674, 108, 361, 400, 849, 101,\n",
        "       141, 422, 872, 583, 330, 186, 866, 225, 392, 576, 622, 288,  20,\n",
        "       527, 563, 624, 556, 943, 423, 954, 222,  97, 906, 120, 877,  68,\n",
        "       243, 222, 823,  56, 122, 929, 166, 303, 716, 300,  48, 440, 365,\n",
        "       437,  97, 695, 178, 902, 686, 544, 719, 969, 890, 753, 215, 780,\n",
        "        11, 255, 394, 556, 222, 612]\n",
        "\n",
        "\n",
        "l=len(arr)\n",
        "mergeSort(arr, 0, l-1)\n",
        "\n",
        "#print(arr)\n",
        "\n",
        "if l%2==0:\n",
        "    print(\"median=\",(arr[l//2]+arr[(l-1)//2])/2)\n",
        "else:\n",
        "    print(\"median=\",arr[l//2])"
      ],
      "metadata": {
        "colab": {
          "base_uri": "https://localhost:8080/"
        },
        "id": "zUOM9zYaT4o0",
        "outputId": "86837d6d-69e7-4726-b1ed-3bce9de4579d"
      },
      "execution_count": 5,
      "outputs": [
        {
          "output_type": "stream",
          "name": "stdout",
          "text": [
            "[2, 3, 7, 8, 8, 10, 11, 12, 16, 20, 23, 26, 27, 28, 29, 37, 38, 39, 40, 41, 46, 48, 51, 52, 54, 56, 56, 63, 65, 65, 68, 69, 69, 70, 72, 74, 74, 75, 76, 79, 79, 80, 85, 85, 86, 86, 87, 88, 89, 91, 93, 96, 97, 97, 98, 100, 101, 101, 101, 102, 102, 105, 106, 107, 108, 113, 116, 116, 118, 120, 120, 122, 123, 126, 129, 129, 129, 135, 139, 140, 141, 142, 145, 147, 151, 151, 160, 163, 166, 168, 172, 172, 175, 176, 178, 178, 180, 182, 185, 185, 186, 188, 190, 192, 194, 195, 196, 196, 201, 201, 206, 206, 210, 211, 215, 215, 219, 220, 222, 222, 222, 222, 223, 224, 225, 226, 226, 230, 233, 233, 234, 234, 237, 238, 239, 242, 242, 243, 243, 249, 252, 254, 255, 256, 264, 265, 266, 266, 268, 270, 271, 274, 280, 288, 288, 291, 295, 299, 299, 300, 300, 300, 303, 309, 309, 311, 316, 316, 317, 320, 324, 326, 330, 330, 331, 335, 335, 337, 338, 340, 342, 348, 348, 348, 349, 352, 353, 357, 361, 362, 364, 365, 365, 371, 376, 379, 380, 392, 393, 394, 397, 398, 399, 400, 402, 409, 410, 412, 414, 416, 418, 418, 420, 421, 421, 422, 423, 423, 425, 428, 432, 437, 437, 437, 440, 440, 448, 450, 455, 455, 461, 461, 465, 470, 470, 470, 473, 474, 477, 480, 482, 484, 484, 487, 494, 495, 497, 504, 508, 510, 512, 512, 514, 521, 523, 525, 527, 531, 534, 534, 534, 536, 537, 544, 544, 546, 549, 554, 554, 556, 556, 560, 561, 563, 565, 565, 570, 572, 573, 576, 578, 582, 583, 584, 586, 588, 589, 591, 594, 600, 601, 602, 602, 604, 605, 607, 612, 613, 615, 617, 619, 619, 621, 622, 624, 625, 628, 632, 632, 635, 636, 637, 638, 638, 642, 642, 645, 645, 647, 662, 663, 669, 672, 672, 673, 673, 673, 674, 676, 677, 678, 678, 679, 681, 684, 684, 684, 684, 684, 685, 686, 687, 690, 691, 694, 694, 695, 697, 698, 699, 702, 705, 705, 706, 710, 712, 715, 716, 717, 717, 719, 721, 725, 726, 727, 729, 729, 733, 740, 740, 742, 742, 743, 746, 748, 753, 754, 758, 759, 761, 772, 772, 773, 775, 775, 777, 779, 780, 784, 786, 788, 788, 789, 791, 792, 794, 800, 802, 805, 807, 808, 809, 811, 811, 812, 814, 816, 816, 819, 823, 831, 834, 834, 837, 837, 840, 840, 841, 843, 845, 845, 849, 849, 850, 856, 857, 857, 862, 865, 866, 867, 868, 870, 870, 871, 872, 872, 874, 874, 875, 877, 878, 879, 880, 881, 884, 890, 891, 893, 894, 899, 902, 903, 904, 906, 907, 911, 912, 914, 918, 918, 927, 928, 929, 931, 932, 934, 936, 937, 939, 943, 947, 948, 951, 953, 954, 954, 957, 962, 962, 962, 963, 965, 966, 967, 968, 969, 970, 971, 973, 974, 975, 975, 979, 980, 981, 990, 992, 992, 994]\n",
            "median= 511.0\n",
            "CPU times: user 2.75 ms, sys: 0 ns, total: 2.75 ms\n",
            "Wall time: 2.69 ms\n"
          ]
        }
      ]
    },
    {
      "cell_type": "code",
      "source": [
        "%%timeit\n",
        "#Method-3 : usinng np.median()\n",
        "import numpy as np\n",
        "\n",
        "#uncomment the required arr to test on different sizes.\n",
        "\n",
        "\n",
        "#arr=[23,45,3,12,2,456,56,65,76,5,4,78,98,79,80,100,39,81,27,61]\n",
        "'''arr=[233, 654, 232, 627, 874,  89, 235, 697, 237, 155, 234, 452, 423,\n",
        "       647, 312, 145, 876, 330, 957, 252, 923, 791, 602, 318, 748, 260,\n",
        "       614, 553, 897, 994, 662,  92, 371,  43, 311, 858, 150, 336, 180,\n",
        "       171, 403, 794, 833, 603, 987, 565, 982,  87, 900, 743, 390, 164,\n",
        "       940, 116, 192, 721, 735,  40,  92, 905,   4, 475, 858, 161, 875,\n",
        "       786, 172, 550, 886, 556, 955, 329, 675, 318, 340, 786, 108, 321,\n",
        "       749, 108, 281, 434, 661, 328, 129, 644, 574, 526, 124, 375, 580,\n",
        "       689, 346, 793, 566, 810, 245, 673, 260, 473]\n",
        "'''\n",
        "\n",
        "arr=[546, 437, 182, 979, 264, 414, 992, 101, 773, 918,  79, 423, 928,\n",
        "        65, 809, 966, 642, 662, 591,  52, 163, 894, 615, 837, 271, 632,\n",
        "        51, 699, 743, 934, 470, 690, 840, 371, 601, 604, 365, 684, 482,\n",
        "       947, 180, 761, 678,  46, 352, 120, 299, 625, 194, 324, 684,  72,\n",
        "         2, 151, 636,  87, 712, 348, 357, 102, 672, 455, 266, 223, 409,\n",
        "       196, 554,  26, 957, 565, 874, 331, 868, 230, 775, 645,  65, 237,\n",
        "       113, 348, 238, 845, 416,  38, 534, 192, 270, 880,  88, 544, 140,\n",
        "       549, 931, 857, 638, 572, 242, 252,  86, 584, 710, 448, 684, 484,\n",
        "       398, 850,  12, 698, 249, 510, 147, 226, 402, 178, 948, 967, 717,\n",
        "       326, 912, 480, 534,  41, 531, 123, 586, 291,  74, 635, 195,  23,\n",
        "       865, 201,  89, 845, 811, 871, 508, 188, 878, 870, 837, 856, 970,\n",
        "       588,  75,  86, 525, 974, 965,  80, 816, 621, 311, 215, 504, 681,\n",
        "       560, 602, 973, 673, 428, 534, 175, 816, 226, 145, 740, 242, 807,\n",
        "       300, 118, 142, 911, 691, 126,  79, 805, 561, 316, 705, 754,  40,\n",
        "       399, 512, 299, 477, 874, 645, 706, 139, 239, 185, 684, 470,  56,\n",
        "       811, 266,  76, 857, 523, 628, 461, 812, 107,  85, 843, 669, 727,\n",
        "       234, 473, 353, 849, 600, 802, 605, 335, 980, 794, 951, 494, 705,\n",
        "       800,  63, 676, 233, 617, 565, 684, 613,  93, 694, 393, 607, 418,\n",
        "       521, 777, 602, 309,  91, 788, 953, 536, 172, 717,  27, 256, 932,\n",
        "       840, 470, 432, 918, 740, 349, 376, 733, 673, 893, 196, 725, 746,\n",
        "       254, 421, 487, 881, 337,  54, 172, 975, 129, 582, 867, 914, 425,\n",
        "       320, 418, 954, 891, 875,  69, 772, 808, 100, 274, 814, 862, 101,\n",
        "       971,  96, 968, 570, 975, 512, 834, 936, 841, 663,   3, 899,  69,\n",
        "       295, 697, 594, 379, 342, 206, 450, 677, 715, 537,   8, 440, 573,\n",
        "       962, 338, 362, 685, 784,  28, 726, 831, 619, 224, 775, 962, 484,\n",
        "       642, 455, 474, 206,  98, 742, 497, 672, 834, 317, 465, 687,  39,\n",
        "       789,  74, 907, 963, 937, 786, 514, 220, 135, 233, 632,  10, 309,\n",
        "       421, 300, 819,   7, 330, 721, 106, 638, 791, 758, 729, 280, 102,\n",
        "       981, 694, 673, 748, 316, 168, 151,  70, 879, 927, 759, 792, 397,\n",
        "       116, 772, 211, 222, 872, 268, 410, 702, 647, 990, 742, 265, 870,\n",
        "       495, 637, 364, 190, 962, 105, 578, 678, 210, 340, 679, 185, 129,\n",
        "        16,  29, 412, 176,   8, 116, 729,  37, 243, 992, 335, 160, 779,\n",
        "       554, 201, 348, 589, 904, 288, 437, 788, 884, 939, 903, 234, 420,\n",
        "       994,  85, 129, 461, 380, 219, 619, 674, 108, 361, 400, 849, 101,\n",
        "       141, 422, 872, 583, 330, 186, 866, 225, 392, 576, 622, 288,  20,\n",
        "       527, 563, 624, 556, 943, 423, 954, 222,  97, 906, 120, 877,  68,\n",
        "       243, 222, 823,  56, 122, 929, 166, 303, 716, 300,  48, 440, 365,\n",
        "       437,  97, 695, 178, 902, 686, 544, 719, 969, 890, 753, 215, 780,\n",
        "        11, 255, 394, 556, 222, 612]\n",
        "\n",
        "\n",
        "print(\"median=\",np.median(arr))"
      ],
      "metadata": {
        "id": "vZ_iQ-ybUXMx"
      },
      "execution_count": null,
      "outputs": []
    },
    {
      "cell_type": "markdown",
      "source": [
        "## Q4)"
      ],
      "metadata": {
        "id": "YjFrAEM8VLCG"
      }
    },
    {
      "cell_type": "markdown",
      "source": [
        "Gradient of a function f(x,y)= fx(x,y)i + fy(x,y)j.\n",
        "In simple words it the vector representation of partial derivaties of f(x,y).\n",
        "\n",
        "Given f(x,y)= x* x* y + y**3 * sin(x)\n",
        "partial derivative of f w.r.t x = 2 *y *x + y**3 * cos(x) --->(1)\n",
        "partial derivative of f w.r.t y = x *x + 3 * y * y *sin(x) --->(2)\n",
        "Gradient will be [ 2 *y *x + y**3 * cos(x) ,  x *x + 3 * y * y *sin(x)]T\n",
        "\n",
        "For sample inputs \n",
        "1) x=0, y=1 Gradient will be:  [1. 0.]\n",
        "2) x=2, y=0 gradient will be [0. 4.]\n",
        "1) x=1, y=1 gradient will be [2.5403023 3.5244129]"
      ],
      "metadata": {
        "id": "CE1e8uxJV5ah"
      }
    },
    {
      "cell_type": "markdown",
      "source": [
        "## Q5 and Q6"
      ],
      "metadata": {
        "id": "9e_hKbH4ZyD0"
      }
    },
    {
      "cell_type": "code",
      "source": [
        "import jax\n",
        "import jax.numpy as jnp\n",
        "\n",
        "from jax import random\n",
        "from jax import grad,value_and_grad\n",
        "\n",
        "# f(x) = x^2 *y + y^3 * sin(x) .\n",
        "\n",
        "def fun(v):\n",
        "    return (v[0]**2 * v[1]) + ( v[1]**3 * jnp.sin(v[0]))\n",
        "\n",
        "# Our explicit gradient function\n",
        "def g_fun(v):\n",
        "    return jnp.array([ 2*v[1]*v[0] + v[1]**3 * jnp.cos(v[0])  , v[0]**2 + 3*jnp.sin(v[0])*(v[1]**2) ])\n",
        "\n",
        "# JAX's grad operator\n",
        "grad_fun= grad(fun)\n",
        "\n",
        "# three different input\n",
        "input = jnp.array([[0, 1], [2.0, 0.0], [1, 1]])\n",
        "for x in input:\n",
        "    print(\"Explicit Gradient Function: \", g_fun(x))\n",
        "    print(\"JAX Gradient Function: \", grad_fun(x))\n",
        "    print(\"\")"
      ],
      "metadata": {
        "colab": {
          "base_uri": "https://localhost:8080/"
        },
        "id": "WlDXSJxoVNPH",
        "outputId": "090c2895-bab6-458e-f6b5-a481f09c31a9"
      },
      "execution_count": 13,
      "outputs": [
        {
          "output_type": "stream",
          "name": "stderr",
          "text": [
            "WARNING:jax._src.lib.xla_bridge:No GPU/TPU found, falling back to CPU. (Set TF_CPP_MIN_LOG_LEVEL=0 and rerun for more info.)\n"
          ]
        },
        {
          "output_type": "stream",
          "name": "stdout",
          "text": [
            "Explicit Gradient Function:  [1. 0.]\n",
            "JAX Gradient Function:  [1. 0.]\n",
            "\n",
            "Explicit Gradient Function:  [0. 4.]\n",
            "JAX Gradient Function:  [0. 4.]\n",
            "\n",
            "Explicit Gradient Function:  [2.5403023 3.5244129]\n",
            "JAX Gradient Function:  [2.5403023 3.5244129]\n",
            "\n"
          ]
        }
      ]
    },
    {
      "cell_type": "markdown",
      "source": [
        "## Q7"
      ],
      "metadata": {
        "id": "SB9De-asaWt-"
      }
    },
    {
      "cell_type": "code",
      "source": [
        "\n",
        "\n",
        "data=dict()\n",
        "\n",
        "data={\n",
        "    2022:{\n",
        "        \"CSE\":{\n",
        "            1:[101,'Hrushi',{\n",
        "                'marks':{'Maths':100,'English':95,'ML':91}\n",
        "                }] ,\n",
        "            2:[102,'Balu',{\n",
        "                'marks':{'Maths':90,'English':85,'ML':99}}]\n",
        "            },\n",
        "        \"EEE\":{\n",
        "            1:[201,'Rama',{\n",
        "                'marks':{'Maths':80,'English':95,'ML':91}\n",
        "                }] ,\n",
        "            2:[222,'Ravi',{\n",
        "                'marks':{'Maths':70,'English':85,'ML':99}}]\n",
        "            }\n",
        "        }\n",
        "\n",
        "    \n",
        "    }\n",
        "print(data)\n",
        "#UNCOMMENT TO PRINT THE DATA\n",
        "\n",
        "#print(\"year 2022 students:\",data[2022])\n",
        "#print(\"year 2022 br1 student:\",data[2022]['CSE'])\n",
        "#print()\n",
        "#print(\"year 2022 br1 2nd student details:\",data[2022]['CSE'][2])\n",
        "#print()\n",
        "#print(\"year 2022 br1 2nd student marks :\",data[2022]['CSE'][2][2]['marks'])\n",
        "#print()\n",
        "#print(\"year 2022 br1 2nd student marks in ML:\",data[2022]['CSE'][2][2]['marks']['ML'])\n",
        "\n",
        "# The way we are printind helps us in giving a way to insert the new values into dictionary.\n",
        "\n",
        "\n",
        "\n",
        "        "
      ],
      "metadata": {
        "colab": {
          "base_uri": "https://localhost:8080/"
        },
        "id": "s1C3XaTpbgRu",
        "outputId": "526e8d8e-98ac-45f3-f674-ad3911999727"
      },
      "execution_count": 34,
      "outputs": [
        {
          "output_type": "stream",
          "name": "stdout",
          "text": [
            "{2022: {'CSE': {1: [101, 'Hrushi', {'marks': {'Maths': 100, 'English': 95, 'ML': 91}}], 2: [102, 'Balu', {'marks': {'Maths': 90, 'English': 85, 'ML': 99}}]}, 'EEE': {1: [201, 'Rama', {'marks': {'Maths': 80, 'English': 95, 'ML': 91}}], 2: [222, 'Ravi', {'marks': {'Maths': 70, 'English': 85, 'ML': 99}}]}}}\n"
          ]
        }
      ]
    },
    {
      "cell_type": "markdown",
      "source": [
        "## Q8"
      ],
      "metadata": {
        "id": "R_TBB3ndb5ZY"
      }
    },
    {
      "cell_type": "code",
      "source": [
        "class yc():\n",
        "    def __init__(self,year):\n",
        "        self.year=year\n",
        "        self.b_list=[]\n",
        "    def getyear(self):\n",
        "        return self.year\n",
        "    def getbranch(self,bname):\n",
        "        self.b_list.append(bname)\n",
        "        return self.b_list\n",
        "\n",
        "class bc():\n",
        "    def __init__(self,br):\n",
        "        self.branch=br\n",
        "        self.s_list=[]\n",
        "    def getstudent(self,sno):\n",
        "        self.s_list.append(sno)\n",
        "        return self.s_list\n",
        "\n",
        "class sc():\n",
        "    def __init__(self,name,rollno,marks):\n",
        "        self.name=name\n",
        "        self.rollno=rollno\n",
        "        self.marks=marks\n",
        "        self.s_list=[]\n",
        "    def getsdetails(self):\n",
        "        self.s_list.extend([self.name,self.rollno,self.marks])\n",
        "        return self.s_list\n",
        "\n",
        "data=[]\n",
        "#Taking 2 years (2033,2023)\n",
        "y1=yc(2022)\n",
        "y2=yc(2023)\n",
        "database=[y1.getyear(),y2.getyear()]\n",
        "#for year 2022 adding cse and eee as branches\n",
        "b_22=y1.getbranch('CSE')\n",
        "b_22=y1.getbranch(\"EEE\")\n",
        "#print(b_22)\n",
        "\n",
        "#for cse adding 2 students 1 and 2.\n",
        "b_cse_22=bc(\"CSE\")\n",
        "s_cse_22=b_cse_22.getstudent(1)\n",
        "s_cse_22=b_cse_22.getstudent(2)\n",
        "#print(s_cse_22)\n",
        "\n",
        "#Adding cse 2022 student 1 and 2 details.\n",
        "s1_cse_22=sc(\"Hrushi\",101,{\"Maths\":90, \"ML\":91,\"DL\":88}).getsdetails()\n",
        "s2_cse_22=sc(\"Raju\",121,{\"Maths\":90, \"ML\":91,\"DL\":88}).getsdetails()\n",
        "#print(s1_cse_22,s2_cse_22)\n",
        "\n",
        "\n",
        "#for eee adding 2 students 1 and 2.\n",
        "b_eee_22=bc(\"EEE\")\n",
        "s_eee_22=b_eee_22.getstudent(1)\n",
        "s_eee_22=b_eee_22.getstudent(2)\n",
        "#print(s_eee_22)\n",
        "\n",
        "#Adding eee 2022 student 1 and 2 details.\n",
        "s1_eee_22=sc(\"Ravi\",201,{\"Maths\":90, \"ML\":81,\"DL\":88}).getsdetails()\n",
        "s2_eee_22=sc(\"Rama\",221,{\"Maths\":80, \"ML\":91,\"DL\":88}).getsdetails()\n",
        "#print(s1_eee_22,s2_eee_22)\n",
        "\n",
        "\n",
        "\n",
        "\n",
        "\n",
        "#for year 2023 adding cse and eee as branches\n",
        "b_23=y2.getbranch('ECE')\n",
        "b_23=y2.getbranch(\"ME\")\n",
        "#print(b_23)\n",
        "\n",
        "# list with branches\n",
        "branches=[]\n",
        "branches.append(b_22)\n",
        "branches.append(b_23)\n",
        "\n",
        "#list of students\n",
        "students=[]\n",
        "students.append(s_cse_22)\n",
        "students.append(s_eee_22)\n",
        "studentdetails=[]\n",
        "studentdetails.append([s1_cse_22,s2_cse_22])\n",
        "studentdetails.append([s1_eee_22,s2_eee_22])\n",
        "#print(branches,students,studentdetails)\n",
        "\n",
        "bcount=0\n",
        "scount=0\n",
        "#printing in proper format\n",
        "for y in database:\n",
        "    print(y)\n",
        "    if bcount<len(branches):\n",
        "        br=branches[bcount]\n",
        "        for b in br:\n",
        "            print(\"\\t\",b)\n",
        "            if scount<len(students):\n",
        "                #print(scount,len(students))\n",
        "                stu=students[scount]\n",
        "                i=0\n",
        "                for s in stu:\n",
        "                    print(\"\\t\\t\",s,studentdetails[scount][i])\n",
        "                    i+=1\n",
        "                scount+=1\n",
        "        bcount+=1\n",
        "        \n",
        "\n"
      ],
      "metadata": {
        "colab": {
          "base_uri": "https://localhost:8080/"
        },
        "id": "tPCaGnCdb3Hc",
        "outputId": "81113cc7-8110-43c8-fa30-431500506e95"
      },
      "execution_count": 17,
      "outputs": [
        {
          "output_type": "stream",
          "name": "stdout",
          "text": [
            "2022\n",
            "\t CSE\n",
            "\t\t 1 ['Hrushi', 101, {'Maths': 90, 'ML': 91, 'DL': 88}]\n",
            "\t\t 2 ['Raju', 121, {'Maths': 90, 'ML': 91, 'DL': 88}]\n",
            "\t EEE\n",
            "\t\t 1 ['Ravi', 201, {'Maths': 90, 'ML': 81, 'DL': 88}]\n",
            "\t\t 2 ['Rama', 221, {'Maths': 80, 'ML': 91, 'DL': 88}]\n",
            "2023\n",
            "\t ECE\n",
            "\t ME\n"
          ]
        }
      ]
    },
    {
      "cell_type": "markdown",
      "source": [
        "## Q9)"
      ],
      "metadata": {
        "id": "7MOc1ow2cyeE"
      }
    },
    {
      "cell_type": "code",
      "source": [
        "\n",
        "import matplotlib.pyplot as plt\n",
        "import numpy as np\n",
        "\n",
        "#9.1\n",
        "\n",
        "xt=[]\n",
        "yt=[]\n",
        "cur_x=0.5\n",
        "while cur_x<=100:\n",
        "    xt.append(cur_x)\n",
        "    yt.append(cur_x)#y=x\n",
        "    cur_x+=0.5\n",
        "x = np.array(xt)\n",
        "y = np.array(yt)\n",
        "  \n",
        "plt.plot(x, y)\n",
        "#plt.Xticks(list(range(, 20, 3)))\n",
        "#plt.yticks(list(range(-3, 20, 3)))\n",
        "plt.show()\n",
        "\n",
        "#9.2\n",
        "\n",
        "xt=[]\n",
        "yt=[]\n",
        "cur_x=0.5\n",
        "while cur_x<=100:\n",
        "    xt.append(cur_x)\n",
        "    yt.append(cur_x**2)#y=x**2\n",
        "    cur_x+=0.5\n",
        "x = np.array(xt)\n",
        "y = np.array(yt)\n",
        "  \n",
        "plt.plot(x, y)\n",
        "#plt.Xticks(list(range(, 20, 3)))\n",
        "#plt.yticks(list(range(-3, 20, 3)))\n",
        "plt.show()\n",
        "\n",
        "#9.3\n",
        "\n",
        "xt=[]\n",
        "yt=[]\n",
        "cur_x=0.5\n",
        "while cur_x<=100:\n",
        "    xt.append(cur_x)\n",
        "    yt.append(cur_x**3/100)#y=x**3/100\n",
        "    cur_x+=0.5\n",
        "x = np.array(xt)\n",
        "y = np.array(yt)\n",
        "  \n",
        "plt.plot(x, y)\n",
        "#plt.Xticks(list(range(, 20, 3)))\n",
        "#plt.yticks(list(range(-3, 20, 3)))\n",
        "plt.show()\n",
        "\n",
        "\n",
        "#9.4\n",
        "\n",
        "xt=[]\n",
        "yt=[]\n",
        "cur_x=0.5\n",
        "while cur_x<=100:\n",
        "    xt.append(cur_x)\n",
        "    yt.append(np.sin(cur_x))#y=sin(x)\n",
        "    cur_x+=0.5\n",
        "x = np.array(xt)\n",
        "y = np.array(yt)\n",
        "  \n",
        "plt.plot(x, y)\n",
        "#plt.Xticks(list(range(, 20, 3)))\n",
        "#plt.yticks(list(range(-3, 20, 3)))\n",
        "plt.show()\n",
        "\n",
        "## 9.5\n",
        "\n",
        "xt=[]\n",
        "yt=[]\n",
        "cur_x=0.5\n",
        "while cur_x<=100:\n",
        "    xt.append(cur_x)\n",
        "    yt.append(np.sin(cur_x)/x)#y=sin(x)/x\n",
        "    cur_x+=0.5\n",
        "x = np.array(xt)\n",
        "y = np.array(yt)\n",
        "  \n",
        "plt.plot(x, y)\n",
        "#plt.Xticks(list(range(, 20, 3)))\n",
        "#plt.yticks(list(range(-3, 20, 3)))\n",
        "plt.show()\n",
        "\n",
        "#9.6\n",
        "\n",
        "xt=[]\n",
        "yt=[]\n",
        "cur_x=0.5\n",
        "while cur_x<=100:\n",
        "    xt.append(cur_x)\n",
        "    yt.append(np.log(cur_x))#y=log(x)\n",
        "    cur_x+=0.5\n",
        "x = np.array(xt)\n",
        "y = np.array(yt)\n",
        "  \n",
        "plt.plot(x, y)\n",
        "#plt.Xticks(list(range(, 20, 3)))\n",
        "#plt.yticks(list(range(-3, 20, 3)))\n",
        "plt.show()\n",
        "\n",
        "#9.7\n",
        "\n",
        "xt=[]\n",
        "yt=[]\n",
        "cur_x=0.5\n",
        "while cur_x<=100:\n",
        "    xt.append(cur_x)\n",
        "    yt.append(np.exp(cur_x))#y=e^x\n",
        "    cur_x+=0.5\n",
        "x = np.array(xt)\n",
        "y = np.array(yt)\n",
        "  \n",
        "plt.plot(x, y)\n",
        "#plt.Xticks(list(range(, 20, 3)))\n",
        "#plt.yticks(list(range(-3, 20, 3)))\n",
        "plt.show()\n"
      ],
      "metadata": {
        "colab": {
          "base_uri": "https://localhost:8080/",
          "height": 1000
        },
        "id": "aF-oCeIvc1tT",
        "outputId": "6851fc8c-b8f5-4308-aa7e-6887a91b3866"
      },
      "execution_count": 18,
      "outputs": [
        {
          "output_type": "display_data",
          "data": {
            "text/plain": [
              "<Figure size 432x288 with 1 Axes>"
            ],
            "image/png": "[encoded data removed]"
          },
          "metadata": {
            "needs_background": "light"
          }
        },
        {
          "output_type": "display_data",
          "data": {
            "text/plain": [
              "<Figure size 432x288 with 1 Axes>"
            ],
            "image/png": "[encoded data removed]"
          },
          "metadata": {
            "needs_background": "light"
          }
        },
        {
          "output_type": "display_data",
          "data": {
            "text/plain": [
              "<Figure size 432x288 with 1 Axes>"
            ],
            "image/png": "[encoded data removed]"
          },
          "metadata": {
            "needs_background": "light"
          }
        },
        {
          "output_type": "display_data",
          "data": {
            "text/plain": [
              "<Figure size 432x288 with 1 Axes>"
            ],
            "image/png": "[encoded data removed]"
          },
          "metadata": {
            "needs_background": "light"
          }
        },
        {
          "output_type": "display_data",
          "data": {
            "text/plain": [
              "<Figure size 432x288 with 1 Axes>"
            ],
            "image/png": "[encoded data removed]"
          },
          "metadata": {
            "needs_background": "light"
          }
        },
        {
          "output_type": "display_data",
          "data": {
            "text/plain": [
              "<Figure size 432x288 with 1 Axes>"
            ],
            "image/png": "[encoded data removed]"
          },
          "metadata": {
            "needs_background": "light"
          }
        },
        {
          "output_type": "display_data",
          "data": {
            "text/plain": [
              "<Figure size 432x288 with 1 Axes>"
            ],
            "image/png": "[encoded data removed]"
          },
          "metadata": {
            "needs_background": "light"
          }
        }
      ]
    },
    {
      "cell_type": "markdown",
      "source": [
        "## Q10) and Q11)"
      ],
      "metadata": {
        "id": "3Og9lY3Cd8hh"
      }
    },
    {
      "cell_type": "code",
      "source": [
        "import numpy as np\n",
        "import pandas as pd\n",
        "\n",
        "arr=np.random.uniform(1,2,(20,5))\n",
        "print(arr)"
      ],
      "metadata": {
        "id": "AevghI6ue063"
      },
      "execution_count": null,
      "outputs": []
    },
    {
      "cell_type": "code",
      "source": [
        "# convert numpy array to dataframe\n",
        "df = pd.DataFrame(arr, columns =[\"a\",\"b\",\"c\",\"d\",\"e\"])\n",
        "print(\"\\nPandas DataFrame: \")\n",
        "df"
      ],
      "metadata": {
        "colab": {
          "base_uri": "https://localhost:8080/",
          "height": 711
        },
        "id": "0TBCRxGye6gi",
        "outputId": "197d109d-4b20-417a-b7b1-970ffc584f52"
      },
      "execution_count": 20,
      "outputs": [
        {
          "output_type": "stream",
          "name": "stdout",
          "text": [
            "\n",
            "Pandas DataFrame: \n"
          ]
        },
        {
          "output_type": "execute_result",
          "data": {
            "text/plain": [
              "           a         b         c         d         e\n",
              "0   1.463210  1.327877  1.676860  1.447593  1.084854\n",
              "1   1.057772  1.589454  1.081765  1.587672  1.463948\n",
              "2   1.889934  1.739779  1.830468  1.403435  1.292761\n",
              "3   1.590993  1.972267  1.951194  1.113601  1.721341\n",
              "4   1.428794  1.848028  1.717846  1.309420  1.250702\n",
              "5   1.247676  1.869199  1.453205  1.209875  1.804478\n",
              "6   1.520612  1.297761  1.548845  1.407186  1.250326\n",
              "7   1.933523  1.794664  1.400904  1.251510  1.804609\n",
              "8   1.978551  1.644520  1.017249  1.249556  1.442496\n",
              "9   1.120380  1.865921  1.286906  1.040791  1.876351\n",
              "10  1.531378  1.831444  1.109253  1.146414  1.751881\n",
              "11  1.837625  1.941206  1.284309  1.064701  1.305843\n",
              "12  1.535796  1.378689  1.990553  1.419747  1.024885\n",
              "13  1.162202  1.417707  1.434433  1.093329  1.227554\n",
              "14  1.432300  1.286065  1.409991  1.926562  1.509134\n",
              "15  1.580637  1.907005  1.308489  1.450700  1.253912\n",
              "16  1.287465  1.209219  1.183663  1.396388  1.595422\n",
              "17  1.789078  1.327268  1.804626  1.314387  1.005660\n",
              "18  1.038528  1.289083  1.089774  1.470454  1.731148\n",
              "19  1.892755  1.459609  1.512645  1.930138  1.639256"
            ],
            "text/html": [
              "\n",
              "  <div id=\"df-359a389a-5d69-4355-92e7-59c683540161\">\n",
              "    <div class=\"colab-df-container\">\n",
              "      <div>\n",
              "<style scoped>\n",
              "    .dataframe tbody tr th:only-of-type {\n",
              "        vertical-align: middle;\n",
              "    }\n",
              "\n",
              "    .dataframe tbody tr th {\n",
              "        vertical-align: top;\n",
              "    }\n",
              "\n",
              "    .dataframe thead th {\n",
              "        text-align: right;\n",
              "    }\n",
              "</style>\n",
              "<table border=\"1\" class=\"dataframe\">\n",
              "  <thead>\n",
              "    <tr style=\"text-align: right;\">\n",
              "      <th></th>\n",
              "      <th>a</th>\n",
              "      <th>b</th>\n",
              "      <th>c</th>\n",
              "      <th>d</th>\n",
              "      <th>e</th>\n",
              "    </tr>\n",
              "  </thead>\n",
              "  <tbody>\n",
              "    <tr>\n",
              "      <th>0</th>\n",
              "      <td>1.463210</td>\n",
              "      <td>1.327877</td>\n",
              "      <td>1.676860</td>\n",
              "      <td>1.447593</td>\n",
              "      <td>1.084854</td>\n",
              "    </tr>\n",
              "    <tr>\n",
              "      <th>1</th>\n",
              "      <td>1.057772</td>\n",
              "      <td>1.589454</td>\n",
              "      <td>1.081765</td>\n",
              "      <td>1.587672</td>\n",
              "      <td>1.463948</td>\n",
              "    </tr>\n",
              "    <tr>\n",
              "      <th>2</th>\n",
              "      <td>1.889934</td>\n",
              "      <td>1.739779</td>\n",
              "      <td>1.830468</td>\n",
              "      <td>1.403435</td>\n",
              "      <td>1.292761</td>\n",
              "    </tr>\n",
              "    <tr>\n",
              "      <th>3</th>\n",
              "      <td>1.590993</td>\n",
              "      <td>1.972267</td>\n",
              "      <td>1.951194</td>\n",
              "      <td>1.113601</td>\n",
              "      <td>1.721341</td>\n",
              "    </tr>\n",
              "    <tr>\n",
              "      <th>4</th>\n",
              "      <td>1.428794</td>\n",
              "      <td>1.848028</td>\n",
              "      <td>1.717846</td>\n",
              "      <td>1.309420</td>\n",
              "      <td>1.250702</td>\n",
              "    </tr>\n",
              "    <tr>\n",
              "      <th>5</th>\n",
              "      <td>1.247676</td>\n",
              "      <td>1.869199</td>\n",
              "      <td>1.453205</td>\n",
              "      <td>1.209875</td>\n",
              "      <td>1.804478</td>\n",
              "    </tr>\n",
              "    <tr>\n",
              "      <th>6</th>\n",
              "      <td>1.520612</td>\n",
              "      <td>1.297761</td>\n",
              "      <td>1.548845</td>\n",
              "      <td>1.407186</td>\n",
              "      <td>1.250326</td>\n",
              "    </tr>\n",
              "    <tr>\n",
              "      <th>7</th>\n",
              "      <td>1.933523</td>\n",
              "      <td>1.794664</td>\n",
              "      <td>1.400904</td>\n",
              "      <td>1.251510</td>\n",
              "      <td>1.804609</td>\n",
              "    </tr>\n",
              "    <tr>\n",
              "      <th>8</th>\n",
              "      <td>1.978551</td>\n",
              "      <td>1.644520</td>\n",
              "      <td>1.017249</td>\n",
              "      <td>1.249556</td>\n",
              "      <td>1.442496</td>\n",
              "    </tr>\n",
              "    <tr>\n",
              "      <th>9</th>\n",
              "      <td>1.120380</td>\n",
              "      <td>1.865921</td>\n",
              "      <td>1.286906</td>\n",
              "      <td>1.040791</td>\n",
              "      <td>1.876351</td>\n",
              "    </tr>\n",
              "    <tr>\n",
              "      <th>10</th>\n",
              "      <td>1.531378</td>\n",
              "      <td>1.831444</td>\n",
              "      <td>1.109253</td>\n",
              "      <td>1.146414</td>\n",
              "      <td>1.751881</td>\n",
              "    </tr>\n",
              "    <tr>\n",
              "      <th>11</th>\n",
              "      <td>1.837625</td>\n",
              "      <td>1.941206</td>\n",
              "      <td>1.284309</td>\n",
              "      <td>1.064701</td>\n",
              "      <td>1.305843</td>\n",
              "    </tr>\n",
              "    <tr>\n",
              "      <th>12</th>\n",
              "      <td>1.535796</td>\n",
              "      <td>1.378689</td>\n",
              "      <td>1.990553</td>\n",
              "      <td>1.419747</td>\n",
              "      <td>1.024885</td>\n",
              "    </tr>\n",
              "    <tr>\n",
              "      <th>13</th>\n",
              "      <td>1.162202</td>\n",
              "      <td>1.417707</td>\n",
              "      <td>1.434433</td>\n",
              "      <td>1.093329</td>\n",
              "      <td>1.227554</td>\n",
              "    </tr>\n",
              "    <tr>\n",
              "      <th>14</th>\n",
              "      <td>1.432300</td>\n",
              "      <td>1.286065</td>\n",
              "      <td>1.409991</td>\n",
              "      <td>1.926562</td>\n",
              "      <td>1.509134</td>\n",
              "    </tr>\n",
              "    <tr>\n",
              "      <th>15</th>\n",
              "      <td>1.580637</td>\n",
              "      <td>1.907005</td>\n",
              "      <td>1.308489</td>\n",
              "      <td>1.450700</td>\n",
              "      <td>1.253912</td>\n",
              "    </tr>\n",
              "    <tr>\n",
              "      <th>16</th>\n",
              "      <td>1.287465</td>\n",
              "      <td>1.209219</td>\n",
              "      <td>1.183663</td>\n",
              "      <td>1.396388</td>\n",
              "      <td>1.595422</td>\n",
              "    </tr>\n",
              "    <tr>\n",
              "      <th>17</th>\n",
              "      <td>1.789078</td>\n",
              "      <td>1.327268</td>\n",
              "      <td>1.804626</td>\n",
              "      <td>1.314387</td>\n",
              "      <td>1.005660</td>\n",
              "    </tr>\n",
              "    <tr>\n",
              "      <th>18</th>\n",
              "      <td>1.038528</td>\n",
              "      <td>1.289083</td>\n",
              "      <td>1.089774</td>\n",
              "      <td>1.470454</td>\n",
              "      <td>1.731148</td>\n",
              "    </tr>\n",
              "    <tr>\n",
              "      <th>19</th>\n",
              "      <td>1.892755</td>\n",
              "      <td>1.459609</td>\n",
              "      <td>1.512645</td>\n",
              "      <td>1.930138</td>\n",
              "      <td>1.639256</td>\n",
              "    </tr>\n",
              "  </tbody>\n",
              "</table>\n",
              "</div>\n",
              "      <button class=\"colab-df-convert\" onclick=\"convertToInteractive('df-359a389a-5d69-4355-92e7-59c683540161')\"\n",
              "              title=\"Convert this dataframe to an interactive table.\"\n",
              "              style=\"display:none;\">\n",
              "        \n",
              "  <svg xmlns=\"http://www.w3.org/2000/svg\" height=\"24px\"viewBox=\"0 0 24 24\"\n",
              "       width=\"24px\">\n",
              "    <path d=\"M0 0h24v24H0V0z\" fill=\"none\"/>\n",
              "    <path d=\"M18.56 5.44l.94 2.06.94-2.06 2.06-.94-2.06-.94-.94-2.06-.94 2.06-2.06.94zm-11 1L8.5 8.5l.94-2.06 2.06-.94-2.06-.94L8.5 2.5l-.94 2.06-2.06.94zm10 10l.94 2.06.94-2.06 2.06-.94-2.06-.94-.94-2.06-.94 2.06-2.06.94z\"/><path d=\"M17.41 7.96l-1.37-1.37c-.4-.4-.92-.59-1.43-.59-.52 0-1.04.2-1.43.59L10.3 9.45l-7.72 7.72c-.78.78-.78 2.05 0 2.83L4 21.41c.39.39.9.59 1.41.59.51 0 1.02-.2 1.41-.59l7.78-7.78 2.81-2.81c.8-.78.8-2.07 0-2.86zM5.41 20L4 18.59l7.72-7.72 1.47 1.35L5.41 20z\"/>\n",
              "  </svg>\n",
              "      </button>\n",
              "      \n",
              "  <style>\n",
              "    .colab-df-container {\n",
              "      display:flex;\n",
              "      flex-wrap:wrap;\n",
              "      gap: 12px;\n",
              "    }\n",
              "\n",
              "    .colab-df-convert {\n",
              "      background-color: #E8F0FE;\n",
              "      border: none;\n",
              "      border-radius: 50%;\n",
              "      cursor: pointer;\n",
              "      display: none;\n",
              "      fill: #1967D2;\n",
              "      height: 32px;\n",
              "      padding: 0 0 0 0;\n",
              "      width: 32px;\n",
              "    }\n",
              "\n",
              "    .colab-df-convert:hover {\n",
              "      background-color: #E2EBFA;\n",
              "      box-shadow: 0px 1px 2px rgba(60, 64, 67, 0.3), 0px 1px 3px 1px rgba(60, 64, 67, 0.15);\n",
              "      fill: #174EA6;\n",
              "    }\n",
              "\n",
              "    [theme=dark] .colab-df-convert {\n",
              "      background-color: #3B4455;\n",
              "      fill: #D2E3FC;\n",
              "    }\n",
              "\n",
              "    [theme=dark] .colab-df-convert:hover {\n",
              "      background-color: #434B5C;\n",
              "      box-shadow: 0px 1px 3px 1px rgba(0, 0, 0, 0.15);\n",
              "      filter: drop-shadow(0px 1px 2px rgba(0, 0, 0, 0.3));\n",
              "      fill: #FFFFFF;\n",
              "    }\n",
              "  </style>\n",
              "\n",
              "      <script>\n",
              "        const buttonEl =\n",
              "          document.querySelector('#df-359a389a-5d69-4355-92e7-59c683540161 button.colab-df-convert');\n",
              "        buttonEl.style.display =\n",
              "          google.colab.kernel.accessAllowed ? 'block' : 'none';\n",
              "\n",
              "        async function convertToInteractive(key) {\n",
              "          const element = document.querySelector('#df-359a389a-5d69-4355-92e7-59c683540161');\n",
              "          const dataTable =\n",
              "            await google.colab.kernel.invokeFunction('convertToInteractive',\n",
              "                                                     [key], {});\n",
              "          if (!dataTable) return;\n",
              "\n",
              "          const docLinkHtml = 'Like what you see? Visit the ' +\n",
              "            '<a target=\"_blank\" href=https://colab.research.google.com/notebooks/data_table.ipynb>data table notebook</a>'\n",
              "            + ' to learn more about interactive tables.';\n",
              "          element.innerHTML = '';\n",
              "          dataTable['output_type'] = 'display_data';\n",
              "          await google.colab.output.renderOutput(dataTable, element);\n",
              "          const docLink = document.createElement('div');\n",
              "          docLink.innerHTML = docLinkHtml;\n",
              "          element.appendChild(docLink);\n",
              "        }\n",
              "      </script>\n",
              "    </div>\n",
              "  </div>\n",
              "  "
            ]
          },
          "metadata": {},
          "execution_count": 20
        }
      ]
    },
    {
      "cell_type": "code",
      "source": [
        "#column label with maximum Standard deviation\n",
        "print(\"Column label with maximum Standard deviation:\")\n",
        "x=df.std()\n",
        "#print(x)\n",
        "if x[0]==max(x):\n",
        "    print('a')\n",
        "elif x[1]==max(x):\n",
        "    print('b')\n",
        "elif x[2]==max(x):\n",
        "    print('c')\n",
        "elif x[3]==max(x):\n",
        "    print('d')\n",
        "elif x[4]==max(x):\n",
        "    print('e')\n"
      ],
      "metadata": {
        "colab": {
          "base_uri": "https://localhost:8080/"
        },
        "id": "fxT_aqgNe9UA",
        "outputId": "9c0e34ac-62dc-4cca-d008-845020c20d3f"
      },
      "execution_count": 21,
      "outputs": [
        {
          "output_type": "stream",
          "name": "stdout",
          "text": [
            "Column label with maximum Standard deviation:\n",
            "a\n"
          ]
        }
      ]
    },
    {
      "cell_type": "code",
      "source": [
        "#The row with the lowest mean\n",
        "# get mean for each row\n",
        "x=df.mean(axis=1)\n",
        "#print(x)\n",
        "\n",
        "i=0\n",
        "mini=min(x)\n",
        "while x[i]!=mini:\n",
        "    i+=1\n",
        "print(\"The row with the lowest mean\",i)"
      ],
      "metadata": {
        "colab": {
          "base_uri": "https://localhost:8080/"
        },
        "id": "bLLSAM7mfAWB",
        "outputId": "93dae4d8-cb51-491a-97fd-5aff12fa6e92"
      },
      "execution_count": 22,
      "outputs": [
        {
          "output_type": "stream",
          "name": "stdout",
          "text": [
            "The row with the lowest mean 13\n"
          ]
        }
      ]
    },
    {
      "cell_type": "code",
      "source": [
        "# Adding new column f\n",
        "row_sum=df.sum(axis=1)\n",
        "#print(list(row_sum))\n",
        "df['f']=list(row_sum)\n",
        "df"
      ],
      "metadata": {
        "colab": {
          "base_uri": "https://localhost:8080/",
          "height": 677
        },
        "id": "3RF0H10BfCjI",
        "outputId": "370906c6-8197-42c5-950d-0c22f2f15cb1"
      },
      "execution_count": 23,
      "outputs": [
        {
          "output_type": "execute_result",
          "data": {
            "text/plain": [
              "           a         b         c         d         e         f\n",
              "0   1.463210  1.327877  1.676860  1.447593  1.084854  7.000394\n",
              "1   1.057772  1.589454  1.081765  1.587672  1.463948  6.780611\n",
              "2   1.889934  1.739779  1.830468  1.403435  1.292761  8.156377\n",
              "3   1.590993  1.972267  1.951194  1.113601  1.721341  8.349396\n",
              "4   1.428794  1.848028  1.717846  1.309420  1.250702  7.554791\n",
              "5   1.247676  1.869199  1.453205  1.209875  1.804478  7.584433\n",
              "6   1.520612  1.297761  1.548845  1.407186  1.250326  7.024730\n",
              "7   1.933523  1.794664  1.400904  1.251510  1.804609  8.185211\n",
              "8   1.978551  1.644520  1.017249  1.249556  1.442496  7.332372\n",
              "9   1.120380  1.865921  1.286906  1.040791  1.876351  7.190349\n",
              "10  1.531378  1.831444  1.109253  1.146414  1.751881  7.370370\n",
              "11  1.837625  1.941206  1.284309  1.064701  1.305843  7.433684\n",
              "12  1.535796  1.378689  1.990553  1.419747  1.024885  7.349670\n",
              "13  1.162202  1.417707  1.434433  1.093329  1.227554  6.335224\n",
              "14  1.432300  1.286065  1.409991  1.926562  1.509134  7.564051\n",
              "15  1.580637  1.907005  1.308489  1.450700  1.253912  7.500743\n",
              "16  1.287465  1.209219  1.183663  1.396388  1.595422  6.672157\n",
              "17  1.789078  1.327268  1.804626  1.314387  1.005660  7.241018\n",
              "18  1.038528  1.289083  1.089774  1.470454  1.731148  6.618986\n",
              "19  1.892755  1.459609  1.512645  1.930138  1.639256  8.434403"
            ],
            "text/html": [
              "\n",
              "  <div id=\"df-a6a4404c-d5ca-4a11-b853-42849b4f5c1b\">\n",
              "    <div class=\"colab-df-container\">\n",
              "      <div>\n",
              "<style scoped>\n",
              "    .dataframe tbody tr th:only-of-type {\n",
              "        vertical-align: middle;\n",
              "    }\n",
              "\n",
              "    .dataframe tbody tr th {\n",
              "        vertical-align: top;\n",
              "    }\n",
              "\n",
              "    .dataframe thead th {\n",
              "        text-align: right;\n",
              "    }\n",
              "</style>\n",
              "<table border=\"1\" class=\"dataframe\">\n",
              "  <thead>\n",
              "    <tr style=\"text-align: right;\">\n",
              "      <th></th>\n",
              "      <th>a</th>\n",
              "      <th>b</th>\n",
              "      <th>c</th>\n",
              "      <th>d</th>\n",
              "      <th>e</th>\n",
              "      <th>f</th>\n",
              "    </tr>\n",
              "  </thead>\n",
              "  <tbody>\n",
              "    <tr>\n",
              "      <th>0</th>\n",
              "      <td>1.463210</td>\n",
              "      <td>1.327877</td>\n",
              "      <td>1.676860</td>\n",
              "      <td>1.447593</td>\n",
              "      <td>1.084854</td>\n",
              "      <td>7.000394</td>\n",
              "    </tr>\n",
              "    <tr>\n",
              "      <th>1</th>\n",
              "      <td>1.057772</td>\n",
              "      <td>1.589454</td>\n",
              "      <td>1.081765</td>\n",
              "      <td>1.587672</td>\n",
              "      <td>1.463948</td>\n",
              "      <td>6.780611</td>\n",
              "    </tr>\n",
              "    <tr>\n",
              "      <th>2</th>\n",
              "      <td>1.889934</td>\n",
              "      <td>1.739779</td>\n",
              "      <td>1.830468</td>\n",
              "      <td>1.403435</td>\n",
              "      <td>1.292761</td>\n",
              "      <td>8.156377</td>\n",
              "    </tr>\n",
              "    <tr>\n",
              "      <th>3</th>\n",
              "      <td>1.590993</td>\n",
              "      <td>1.972267</td>\n",
              "      <td>1.951194</td>\n",
              "      <td>1.113601</td>\n",
              "      <td>1.721341</td>\n",
              "      <td>8.349396</td>\n",
              "    </tr>\n",
              "    <tr>\n",
              "      <th>4</th>\n",
              "      <td>1.428794</td>\n",
              "      <td>1.848028</td>\n",
              "      <td>1.717846</td>\n",
              "      <td>1.309420</td>\n",
              "      <td>1.250702</td>\n",
              "      <td>7.554791</td>\n",
              "    </tr>\n",
              "    <tr>\n",
              "      <th>5</th>\n",
              "      <td>1.247676</td>\n",
              "      <td>1.869199</td>\n",
              "      <td>1.453205</td>\n",
              "      <td>1.209875</td>\n",
              "      <td>1.804478</td>\n",
              "      <td>7.584433</td>\n",
              "    </tr>\n",
              "    <tr>\n",
              "      <th>6</th>\n",
              "      <td>1.520612</td>\n",
              "      <td>1.297761</td>\n",
              "      <td>1.548845</td>\n",
              "      <td>1.407186</td>\n",
              "      <td>1.250326</td>\n",
              "      <td>7.024730</td>\n",
              "    </tr>\n",
              "    <tr>\n",
              "      <th>7</th>\n",
              "      <td>1.933523</td>\n",
              "      <td>1.794664</td>\n",
              "      <td>1.400904</td>\n",
              "      <td>1.251510</td>\n",
              "      <td>1.804609</td>\n",
              "      <td>8.185211</td>\n",
              "    </tr>\n",
              "    <tr>\n",
              "      <th>8</th>\n",
              "      <td>1.978551</td>\n",
              "      <td>1.644520</td>\n",
              "      <td>1.017249</td>\n",
              "      <td>1.249556</td>\n",
              "      <td>1.442496</td>\n",
              "      <td>7.332372</td>\n",
              "    </tr>\n",
              "    <tr>\n",
              "      <th>9</th>\n",
              "      <td>1.120380</td>\n",
              "      <td>1.865921</td>\n",
              "      <td>1.286906</td>\n",
              "      <td>1.040791</td>\n",
              "      <td>1.876351</td>\n",
              "      <td>7.190349</td>\n",
              "    </tr>\n",
              "    <tr>\n",
              "      <th>10</th>\n",
              "      <td>1.531378</td>\n",
              "      <td>1.831444</td>\n",
              "      <td>1.109253</td>\n",
              "      <td>1.146414</td>\n",
              "      <td>1.751881</td>\n",
              "      <td>7.370370</td>\n",
              "    </tr>\n",
              "    <tr>\n",
              "      <th>11</th>\n",
              "      <td>1.837625</td>\n",
              "      <td>1.941206</td>\n",
              "      <td>1.284309</td>\n",
              "      <td>1.064701</td>\n",
              "      <td>1.305843</td>\n",
              "      <td>7.433684</td>\n",
              "    </tr>\n",
              "    <tr>\n",
              "      <th>12</th>\n",
              "      <td>1.535796</td>\n",
              "      <td>1.378689</td>\n",
              "      <td>1.990553</td>\n",
              "      <td>1.419747</td>\n",
              "      <td>1.024885</td>\n",
              "      <td>7.349670</td>\n",
              "    </tr>\n",
              "    <tr>\n",
              "      <th>13</th>\n",
              "      <td>1.162202</td>\n",
              "      <td>1.417707</td>\n",
              "      <td>1.434433</td>\n",
              "      <td>1.093329</td>\n",
              "      <td>1.227554</td>\n",
              "      <td>6.335224</td>\n",
              "    </tr>\n",
              "    <tr>\n",
              "      <th>14</th>\n",
              "      <td>1.432300</td>\n",
              "      <td>1.286065</td>\n",
              "      <td>1.409991</td>\n",
              "      <td>1.926562</td>\n",
              "      <td>1.509134</td>\n",
              "      <td>7.564051</td>\n",
              "    </tr>\n",
              "    <tr>\n",
              "      <th>15</th>\n",
              "      <td>1.580637</td>\n",
              "      <td>1.907005</td>\n",
              "      <td>1.308489</td>\n",
              "      <td>1.450700</td>\n",
              "      <td>1.253912</td>\n",
              "      <td>7.500743</td>\n",
              "    </tr>\n",
              "    <tr>\n",
              "      <th>16</th>\n",
              "      <td>1.287465</td>\n",
              "      <td>1.209219</td>\n",
              "      <td>1.183663</td>\n",
              "      <td>1.396388</td>\n",
              "      <td>1.595422</td>\n",
              "      <td>6.672157</td>\n",
              "    </tr>\n",
              "    <tr>\n",
              "      <th>17</th>\n",
              "      <td>1.789078</td>\n",
              "      <td>1.327268</td>\n",
              "      <td>1.804626</td>\n",
              "      <td>1.314387</td>\n",
              "      <td>1.005660</td>\n",
              "      <td>7.241018</td>\n",
              "    </tr>\n",
              "    <tr>\n",
              "      <th>18</th>\n",
              "      <td>1.038528</td>\n",
              "      <td>1.289083</td>\n",
              "      <td>1.089774</td>\n",
              "      <td>1.470454</td>\n",
              "      <td>1.731148</td>\n",
              "      <td>6.618986</td>\n",
              "    </tr>\n",
              "    <tr>\n",
              "      <th>19</th>\n",
              "      <td>1.892755</td>\n",
              "      <td>1.459609</td>\n",
              "      <td>1.512645</td>\n",
              "      <td>1.930138</td>\n",
              "      <td>1.639256</td>\n",
              "      <td>8.434403</td>\n",
              "    </tr>\n",
              "  </tbody>\n",
              "</table>\n",
              "</div>\n",
              "      <button class=\"colab-df-convert\" onclick=\"convertToInteractive('df-a6a4404c-d5ca-4a11-b853-42849b4f5c1b')\"\n",
              "              title=\"Convert this dataframe to an interactive table.\"\n",
              "              style=\"display:none;\">\n",
              "        \n",
              "  <svg xmlns=\"http://www.w3.org/2000/svg\" height=\"24px\"viewBox=\"0 0 24 24\"\n",
              "       width=\"24px\">\n",
              "    <path d=\"M0 0h24v24H0V0z\" fill=\"none\"/>\n",
              "    <path d=\"M18.56 5.44l.94 2.06.94-2.06 2.06-.94-2.06-.94-.94-2.06-.94 2.06-2.06.94zm-11 1L8.5 8.5l.94-2.06 2.06-.94-2.06-.94L8.5 2.5l-.94 2.06-2.06.94zm10 10l.94 2.06.94-2.06 2.06-.94-2.06-.94-.94-2.06-.94 2.06-2.06.94z\"/><path d=\"M17.41 7.96l-1.37-1.37c-.4-.4-.92-.59-1.43-.59-.52 0-1.04.2-1.43.59L10.3 9.45l-7.72 7.72c-.78.78-.78 2.05 0 2.83L4 21.41c.39.39.9.59 1.41.59.51 0 1.02-.2 1.41-.59l7.78-7.78 2.81-2.81c.8-.78.8-2.07 0-2.86zM5.41 20L4 18.59l7.72-7.72 1.47 1.35L5.41 20z\"/>\n",
              "  </svg>\n",
              "      </button>\n",
              "      \n",
              "  <style>\n",
              "    .colab-df-container {\n",
              "      display:flex;\n",
              "      flex-wrap:wrap;\n",
              "      gap: 12px;\n",
              "    }\n",
              "\n",
              "    .colab-df-convert {\n",
              "      background-color: #E8F0FE;\n",
              "      border: none;\n",
              "      border-radius: 50%;\n",
              "      cursor: pointer;\n",
              "      display: none;\n",
              "      fill: #1967D2;\n",
              "      height: 32px;\n",
              "      padding: 0 0 0 0;\n",
              "      width: 32px;\n",
              "    }\n",
              "\n",
              "    .colab-df-convert:hover {\n",
              "      background-color: #E2EBFA;\n",
              "      box-shadow: 0px 1px 2px rgba(60, 64, 67, 0.3), 0px 1px 3px 1px rgba(60, 64, 67, 0.15);\n",
              "      fill: #174EA6;\n",
              "    }\n",
              "\n",
              "    [theme=dark] .colab-df-convert {\n",
              "      background-color: #3B4455;\n",
              "      fill: #D2E3FC;\n",
              "    }\n",
              "\n",
              "    [theme=dark] .colab-df-convert:hover {\n",
              "      background-color: #434B5C;\n",
              "      box-shadow: 0px 1px 3px 1px rgba(0, 0, 0, 0.15);\n",
              "      filter: drop-shadow(0px 1px 2px rgba(0, 0, 0, 0.3));\n",
              "      fill: #FFFFFF;\n",
              "    }\n",
              "  </style>\n",
              "\n",
              "      <script>\n",
              "        const buttonEl =\n",
              "          document.querySelector('#df-a6a4404c-d5ca-4a11-b853-42849b4f5c1b button.colab-df-convert');\n",
              "        buttonEl.style.display =\n",
              "          google.colab.kernel.accessAllowed ? 'block' : 'none';\n",
              "\n",
              "        async function convertToInteractive(key) {\n",
              "          const element = document.querySelector('#df-a6a4404c-d5ca-4a11-b853-42849b4f5c1b');\n",
              "          const dataTable =\n",
              "            await google.colab.kernel.invokeFunction('convertToInteractive',\n",
              "                                                     [key], {});\n",
              "          if (!dataTable) return;\n",
              "\n",
              "          const docLinkHtml = 'Like what you see? Visit the ' +\n",
              "            '<a target=\"_blank\" href=https://colab.research.google.com/notebooks/data_table.ipynb>data table notebook</a>'\n",
              "            + ' to learn more about interactive tables.';\n",
              "          element.innerHTML = '';\n",
              "          dataTable['output_type'] = 'display_data';\n",
              "          await google.colab.output.renderOutput(dataTable, element);\n",
              "          const docLink = document.createElement('div');\n",
              "          docLink.innerHTML = docLinkHtml;\n",
              "          element.appendChild(docLink);\n",
              "        }\n",
              "      </script>\n",
              "    </div>\n",
              "  </div>\n",
              "  "
            ]
          },
          "metadata": {},
          "execution_count": 23
        }
      ]
    },
    {
      "cell_type": "code",
      "source": [
        "#Adding column g\n",
        "temp=df['f']\n",
        "g_values=[] # values needs to be appended to g col\n",
        "f_gt8=[]\n",
        "f_lt8=[]\n",
        "count_lt8=0\n",
        "\n",
        "for i in temp:\n",
        "    if i<8:\n",
        "        g_values.append(\"LT8\")\n",
        "        f_lt8.append(i)\n",
        "        count_lt8+=1\n",
        "    else:\n",
        "        g_values.append(\"GT8\")\n",
        "        f_gt8.append(i)\n",
        "  \n",
        "df['g']=list(g_values)\n",
        "df\n",
        "print(\"the number of rows in the dataframe where the value in the column “g” is “LT8”:\",count_lt8)\n",
        "print()\n",
        "print(\"The standard deviation of the column “f” for the rows where the value in the column “g” is “LT8” is:\",np.array(f_lt8).std(),\"and “GT8” is:\",np.array(f_gt8).std())"
      ],
      "metadata": {
        "colab": {
          "base_uri": "https://localhost:8080/"
        },
        "id": "cevVUb6SfJOT",
        "outputId": "73f599f3-8856-4c5e-ea79-9c1acf0268d9"
      },
      "execution_count": 24,
      "outputs": [
        {
          "output_type": "stream",
          "name": "stdout",
          "text": [
            "the number of rows in the dataframe where the value in the column “g” is “LT8”: 16\n",
            "\n",
            "The standard deviation of the column “f” for the rows where the value in the column “g” is “LT8” is: 0.371344125887829 and “GT8” is: 0.11501815313770863\n"
          ]
        }
      ]
    },
    {
      "cell_type": "markdown",
      "source": [
        "## Q12)\n",
        "Numpy allows us to perform arthematic operations on arrays of different dimensions.The way of performing is given be boardcasting. In boardcasting, when we are performing an arhematic operation on two arrays, we boardcast the array with smaller dimension such that its diemensions are same as the larger array.This is whole done by Numpy internally. The are few conditons\n",
        "\n",
        "two arrays can be bosrdcast together if they have same dimensions.\n",
        "if two arrays are not same in the dimensions then they are compatible if atleast one of the array has size 1 in that dimension."
      ],
      "metadata": {
        "id": "TOkKCFBGfPbT"
      }
    },
    {
      "cell_type": "code",
      "source": [
        "import numpy as np\n",
        "\n",
        "# Example:1\n",
        "a = np.array([5, 7, 3, 1])\n",
        "b = np.array([90, 50, 0, 30])\n",
        "\n",
        "# array are compatible because of same Dimension\n",
        "c = a * b\n",
        "print(c)"
      ],
      "metadata": {
        "colab": {
          "base_uri": "https://localhost:8080/"
        },
        "id": "CAutlR3NfW9J",
        "outputId": "cc83c4a0-cfae-484c-a1b0-7193a65e2b72"
      },
      "execution_count": 26,
      "outputs": [
        {
          "output_type": "stream",
          "name": "stdout",
          "text": [
            "[450 350   0  30]\n"
          ]
        }
      ]
    },
    {
      "cell_type": "code",
      "source": [
        "# Example:2\n",
        "\n",
        "a = np.array([17, 11, 19]) # 1x3 Dimension array\n",
        "b = 32\n",
        "\n",
        " \n",
        "# Broadcasting happened because of\n",
        "# miss match in array Dimension.\n",
        "c = a + b\n",
        "print(c)"
      ],
      "metadata": {
        "colab": {
          "base_uri": "https://localhost:8080/"
        },
        "id": "aWpUs7DLfm7y",
        "outputId": "d1b0dfda-37be-4c58-e6c3-1c1d7a4f2712"
      },
      "execution_count": 28,
      "outputs": [
        {
          "output_type": "stream",
          "name": "stdout",
          "text": [
            "[49 43 51]\n"
          ]
        }
      ]
    },
    {
      "cell_type": "code",
      "source": [
        "# Example:3\n",
        "a = np.array([[5],[7], [3], [4]])\n",
        "b = np.array([90, 50, 30,2])\n",
        "print(a.shape)\n",
        "print(b.shape)\n",
        "# array are compatible because of same Dimension\n",
        "c = a * b\n",
        "\n",
        "print(c)\n"
      ],
      "metadata": {
        "colab": {
          "base_uri": "https://localhost:8080/"
        },
        "id": "8hHluSMnf1mi",
        "outputId": "0dbe1be7-b1ac-4ca9-e60b-888d64bbc78b"
      },
      "execution_count": 29,
      "outputs": [
        {
          "output_type": "stream",
          "name": "stdout",
          "text": [
            "(4, 1)\n",
            "(4,)\n",
            "[[450 250 150  10]\n",
            " [630 350 210  14]\n",
            " [270 150  90   6]\n",
            " [360 200 120   8]]\n"
          ]
        }
      ]
    },
    {
      "cell_type": "code",
      "source": [
        "# Oneway of conveting it to make compatible\n",
        "\n",
        "a = np.array([[5,6],[7,6], [3,1], [4,0]])\n",
        "b = np.array([90, 50, 30,2])\n",
        "print(a.shape)\n",
        "print(b.shape)\n",
        "print(np.reshape(b, (4,1) ) * a)\n",
        "\n",
        "# array are compatible because of same Dimension\n"
      ],
      "metadata": {
        "colab": {
          "base_uri": "https://localhost:8080/"
        },
        "id": "nQEStnITf-OO",
        "outputId": "ab26de35-4c4b-4bca-bcf2-829fd7cdec7a"
      },
      "execution_count": 30,
      "outputs": [
        {
          "output_type": "stream",
          "name": "stdout",
          "text": [
            "(4, 2)\n",
            "(4,)\n",
            "[[450 540]\n",
            " [350 300]\n",
            " [ 90  30]\n",
            " [  8   0]]\n"
          ]
        }
      ]
    },
    {
      "cell_type": "markdown",
      "source": [
        "## 13"
      ],
      "metadata": {
        "id": "yq6PvVMvgHTU"
      }
    },
    {
      "cell_type": "code",
      "source": [
        "a = np.array([5, 7, 3, 1])\n",
        "\n",
        "def argminfun(a):\n",
        "    \n",
        "    mini=0\n",
        "    for i in range(len(a)):\n",
        "        if a[i]<a[mini]:\n",
        "            mini=i\n",
        "    return mini\n",
        "print(\"The index of minimum element in array;\",argminfun(a))\n",
        "# verification using argmin\n",
        "print(\"The index of minimum element in array;\",np.argmin(a))"
      ],
      "metadata": {
        "colab": {
          "base_uri": "https://localhost:8080/"
        },
        "id": "V5TY0-HKgH_U",
        "outputId": "a5a1ecdb-fa0d-46b4-a055-4802e943d450"
      },
      "execution_count": 32,
      "outputs": [
        {
          "output_type": "stream",
          "name": "stdout",
          "text": [
            "The index of minimum element in array; 3\n",
            "The index of minimum element in array; 3\n"
          ]
        }
      ]
    },
    {
      "cell_type": "code",
      "source": [
        "## for two d arrays\n",
        "arr1 = np.array([5, 7, 3, 1])\n",
        "arr2= np.array([[5,6],[7,6], [3,1], [4,0]])\n",
        "def argminfun(b,axis=None):\n",
        "    if len(b.shape)==2 and axis==1:\n",
        "        (le,bre)=b.shape\n",
        "        ind_list=[]\n",
        "        for a in b:\n",
        "            \n",
        "            mini=0\n",
        "            for i in range(len(a)):\n",
        "                if a[i]<a[mini]:\n",
        "                    mini=i\n",
        "            ind_list.append(mini)\n",
        "        return ind_list\n",
        "    elif len(b.shape)==2 and axis==0:\n",
        "        (le,bre)=b.shape\n",
        "        #print(le,bre)\n",
        "        ind_list=[]\n",
        "        for i in range(bre):\n",
        "            \n",
        "            mini=0\n",
        "            for j in range(le):\n",
        "                #print(i,j,b[j][i])\n",
        "                if b[j][i]<b[mini][i]:\n",
        "                    mini=j\n",
        "            ind_list.append(mini)\n",
        "        return ind_list\n",
        "    elif len(b.shape)==1:\n",
        "        mini=0\n",
        "        for i in range(len(b)):\n",
        "            if b[i]<b[mini]:\n",
        "                mini=i\n",
        "        return mini\n",
        "        \n",
        "print(\"The index of minimum element in array;\",argminfun(arr1))\n",
        "print(\"The index of minimum element in array;\",argminfun(arr2,0))\n",
        "print(\"The index of minimum element in array;\",argminfun(arr2,1))\n",
        "\n",
        "# verification using argmin\n",
        "print(\"The index of minimum element in array;\",np.argmin(arr1))\n",
        "print(\"The index of minimum element in array;\",np.argmin(arr2,axis=0))\n",
        "print(\"The index of minimum element in array;\",np.argmin(arr2,axis=1))"
      ],
      "metadata": {
        "colab": {
          "base_uri": "https://localhost:8080/"
        },
        "id": "8qUlh-r_gSCE",
        "outputId": "139e762d-36f4-49ad-ea61-38489b90e367"
      },
      "execution_count": 33,
      "outputs": [
        {
          "output_type": "stream",
          "name": "stdout",
          "text": [
            "The index of minimum element in array; 3\n",
            "The index of minimum element in array; [2, 3]\n",
            "The index of minimum element in array; [0, 1, 1, 1]\n",
            "The index of minimum element in array; 3\n",
            "The index of minimum element in array; [2 3]\n",
            "The index of minimum element in array; [0 1 1 1]\n"
          ]
        }
      ]
    },
    {
      "cell_type": "markdown",
      "source": [],
      "metadata": {
        "id": "QopItMMJggG9"
      }
    }
  ]
}